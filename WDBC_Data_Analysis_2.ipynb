{
 "cells": [
  {
   "cell_type": "markdown",
   "id": "ca25833e",
   "metadata": {},
   "source": [
    "# Wisconsin Diagnostic Breast Cancer (WDBC) Data Analysis"
   ]
  },
  {
   "cell_type": "markdown",
   "id": "1e926ff8",
   "metadata": {},
   "source": [
    "In this notebook, we are analyzing data from breast cancer research to predict if a breast mass is begign or malignant. We have total 569 data points and 32 attributes. The first attribute is an ID column, second is our target variable and rest 30 are features of the mass, computed from a digitized image of a fine needle aspirate (FNA). The target class distribution for these sample points is 357 benign and 212 malignant."
   ]
  },
  {
   "cell_type": "markdown",
   "id": "36733fd9",
   "metadata": {},
   "source": [
    "## Importing Libraries"
   ]
  },
  {
   "cell_type": "markdown",
   "id": "d6cd49f1",
   "metadata": {},
   "source": [
    "We start by importing all necessary libraries for our analysis."
   ]
  },
  {
   "cell_type": "code",
   "execution_count": 1,
   "id": "e36ceb35",
   "metadata": {},
   "outputs": [],
   "source": [
    "# importing all necessary libraries\n",
    "import numpy as np\n",
    "import math\n",
    "import pandas as pd\n",
    "import matplotlib.pyplot as plt\n",
    "from matplotlib.colors import ListedColormap\n",
    "from sklearn import neighbors, tree, linear_model, naive_bayes\n",
    "from sklearn.svm import SVC\n",
    "from sklearn import datasets, preprocessing, metrics\n",
    "from sklearn.metrics import f1_score, make_scorer, accuracy_score, matthews_corrcoef\n",
    "from sklearn.model_selection import train_test_split, GridSearchCV, cross_val_score, KFold\n",
    "from skopt import BayesSearchCV\n",
    "from skopt.space import Real, Categorical, Integer\n",
    "import scikitplot\n",
    "\n",
    "import warnings\n",
    "warnings.filterwarnings('ignore')"
   ]
  },
  {
   "cell_type": "markdown",
   "id": "3da61d63",
   "metadata": {},
   "source": [
    "## Data Load"
   ]
  },
  {
   "cell_type": "markdown",
   "id": "0bd7c28e",
   "metadata": {},
   "source": [
    "We then use pandas dataframe to load data in a python dataframe, giving column names as specified in the data dictionary. Out of the 30 features of the mass, first 10 attributs are mean, next 10 are standard errors, and the last 10 are the \"worst\" or largest values. The 10 features are:\n",
    "\n",
    "    a) radius (mean of distances from center to points on the perimeter)\n",
    "\tb) texture (standard deviation of gray-scale values)\n",
    "\tc) perimeter\n",
    "\td) area\n",
    "\te) smoothness (local variation in radius lengths)\n",
    "\tf) compactness (perimeter^2 / area - 1.0)\n",
    "\tg) concavity (severity of concave portions of the contour)\n",
    "\th) concave points (number of concave portions of the contour)\n",
    "\ti) symmetry \n",
    "\tj) fractal dimension (\"coastline approximation\" - 1)\n",
    "    \n",
    "All feature values are recoded with four significant digits."
   ]
  },
  {
   "cell_type": "code",
   "execution_count": 2,
   "id": "074bf6cb",
   "metadata": {},
   "outputs": [],
   "source": [
    "# load entire data in one numpy array\n",
    "wdbc_raw = pd.read_csv('wdbc.data', delimiter=\",\", names=[\n",
    "        'id', 'diagnosis', 'radius_mean', 'texture_mean', 'perimeter_mean', \n",
    "        'area_mean', 'smoothness_mean', 'compactness_mean', 'concavity_mean',\n",
    "        'concave_points_mean', 'symmetry_mean', 'fractal_dimension_mean',\n",
    "        'radius_se', 'texture_se', 'perimeter_se', 'area_se', 'smoothness_se', \n",
    "        'compactness_se', 'concavity_se', 'concave_points_se', 'symmetry_se', \n",
    "        'fractal_dimension_se', 'radius_worst', 'texture_worst', 'perimeter_worst', \n",
    "        'area_worst', 'smoothness_worst', 'compactness_worst', 'concavity_worst',\n",
    "        'concave_points_worst', 'symmetry_worst', 'fractal_dimension_worst'])"
   ]
  },
  {
   "cell_type": "markdown",
   "id": "c25e2ab9",
   "metadata": {},
   "source": [
    "Here, we are converting the pandas dataframe to a numpy array, as all data analysis is done using scikit learn, which is based on numpy. Doing this makes our analysis simpler."
   ]
  },
  {
   "cell_type": "code",
   "execution_count": 3,
   "id": "d9bc338b",
   "metadata": {},
   "outputs": [],
   "source": [
    "# convert to numpy array\n",
    "wdbc_raw = wdbc_raw.to_numpy()"
   ]
  },
  {
   "cell_type": "markdown",
   "id": "7f0963c8",
   "metadata": {},
   "source": [
    "## Training Testing Split"
   ]
  },
  {
   "cell_type": "markdown",
   "id": "1df1d7a2",
   "metadata": {},
   "source": [
    "We then divide our data into training, validation and testing splits. The ratio of data being used is 80% training and 20% testing. Out of the 80% training, we again split 80% for training and the rest 20% for validation. The training and validation splits are used to train the model and select the best setting of hyperparameters. Once we have this setting, traning and validation splits are recombined to form a single training dataset used to train our prediction model. The final testing split, which the model has not seen as of now is being used to evaluate the final model performance."
   ]
  },
  {
   "cell_type": "code",
   "execution_count": 4,
   "id": "84ae25a3",
   "metadata": {},
   "outputs": [
    {
     "name": "stdout",
     "output_type": "stream",
     "text": [
      "Sample count of training:  455\n",
      "Sample count of testing:  114\n"
     ]
    }
   ],
   "source": [
    "# divide data into training and testing\n",
    "\n",
    "wdbc_x = wdbc_raw[:, 2:].copy()\n",
    "wdbc_y = wdbc_raw[:, 1:2].copy()\n",
    "\n",
    "wdbc_x_train, wdbc_x_test, wdbc_y_train, wdbc_y_test = train_test_split(\n",
    "                                          wdbc_x, wdbc_y, test_size=0.2, random_state=5)\n",
    "\n",
    "wdbc_y_train = wdbc_y_train.ravel()\n",
    "wdbc_y_test = wdbc_y_test.ravel()\n",
    "\n",
    "#see sample division of training and testing\n",
    "print(\"Sample count of training: \", wdbc_y_train.shape[0])\n",
    "print(\"Sample count of testing: \", wdbc_y_test.shape[0])"
   ]
  },
  {
   "cell_type": "markdown",
   "id": "64ee18e7",
   "metadata": {},
   "source": [
    "## Benchmark"
   ]
  },
  {
   "cell_type": "markdown",
   "id": "bfa09ed8",
   "metadata": {},
   "source": [
    "We are now calculating model performance for the following model, where we are predicting everything as 'M'(we are interested in Malign diagnosis rather than benign, although the benign class is majority), and set it as a benchmark to see compare our final model performance.\n",
    "\n",
    "We will use the F-measure for hyperparameter setting and final model selection, as it is a combination of precision and recall, and we want to maximize these measures for class 'M'."
   ]
  },
  {
   "cell_type": "code",
   "execution_count": 5,
   "id": "a7e1bb3b",
   "metadata": {},
   "outputs": [
    {
     "name": "stdout",
     "output_type": "stream",
     "text": [
      "Accuracy for this model:  0.32456140350877194\n",
      "Precision for class M:  0.32456140350877194\n",
      "Recall for class M:  1.0\n",
      "F-score for this model:  0.490066225165563\n",
      "Confusion Matrix for this model: \n",
      " [[ 0 77]\n",
      " [ 0 37]]\n"
     ]
    }
   ],
   "source": [
    "pred = np.full(wdbc_y_test.shape, 'M')\n",
    "\n",
    "print(\"Accuracy for this model: \", metrics.accuracy_score(wdbc_y_test, pred))\n",
    "print(\"Precision for class M: \", metrics.precision_score(wdbc_y_test, pred, pos_label='M'))\n",
    "print(\"Recall for class M: \", metrics.recall_score(wdbc_y_test, pred, pos_label='M'))\n",
    "print(\"F-score for this model: \", metrics.f1_score(wdbc_y_test, pred, pos_label='M'))\n",
    "print(\"Confusion Matrix for this model: \\n\", metrics.confusion_matrix(wdbc_y_test, pred))"
   ]
  },
  {
   "cell_type": "markdown",
   "id": "ae39f661",
   "metadata": {},
   "source": [
    "## Pre processing"
   ]
  },
  {
   "cell_type": "markdown",
   "id": "003cb787",
   "metadata": {},
   "source": [
    "We define a dictionary here which will record the best performance evaluation of all the models we will look at."
   ]
  },
  {
   "cell_type": "code",
   "execution_count": 6,
   "id": "7ba9a3f0",
   "metadata": {},
   "outputs": [],
   "source": [
    "f1_scores = {}"
   ]
  },
  {
   "cell_type": "markdown",
   "id": "56dbce50",
   "metadata": {},
   "source": [
    "The below code is for defining the custom scorer, inner and outer cross validation folds, which will be used in evaluating all models."
   ]
  },
  {
   "cell_type": "code",
   "execution_count": 7,
   "id": "a2cc3a9d",
   "metadata": {},
   "outputs": [],
   "source": [
    "# defining a custom scorer\n",
    "# we use f-score for all our model evaluations\n",
    "custom_scorer = make_scorer(f1_score, greater_is_better=True,  pos_label='M')\n",
    "\n",
    "# code for accuracy scorer maker\n",
    "# custom_scorer = make_scorer(accuracy_score, greater_is_better=True)\n",
    "\n",
    "# create folds for cross validation\n",
    "inner_cv = KFold(n_splits=5, shuffle=True, random_state=5)\n",
    "outer_cv = KFold(n_splits=5, shuffle=True, random_state=5)"
   ]
  },
  {
   "cell_type": "markdown",
   "id": "b59b869f",
   "metadata": {},
   "source": [
    "## KNN"
   ]
  },
  {
   "cell_type": "markdown",
   "id": "e9a5feae",
   "metadata": {},
   "source": [
    "We start by normalizing the dataset, so that the distances calculated in KNN are not overweighed by a feature that has higher range as compared to others. Here, we use the min max normalizing technique."
   ]
  },
  {
   "cell_type": "code",
   "execution_count": 8,
   "id": "821d9063",
   "metadata": {},
   "outputs": [],
   "source": [
    "# normalize train and validation\n",
    "min_max_scaler = preprocessing.MinMaxScaler()\n",
    "wdbc_x_train_minmax = min_max_scaler.fit_transform(wdbc_x_train)"
   ]
  },
  {
   "cell_type": "markdown",
   "id": "989746c9",
   "metadata": {},
   "source": [
    "We now evaluate KNN prediction model for different settings of hyperparameters using nested CV search. The scoring method we use is F-score, as we want to maximize both precision and recall for class M.\n",
    "To do this, we first define a reasonable parameter search space. Post this, we use the custom scorer defined earlier, as an input in the grid search and cross val score functions.\n",
    "We then use the inner and outer cross validation spaces. The inner cv is used in the grid search, and the outer cv is used in cross val score, and we store the mean f-score in our dictionary.\n",
    "Additionally, we will be using the train split for all this analysis, as we want to reserve a part of data for final model evaluation.\n",
    "At the end, we store the mean of KNN model evaluation in our dictionary."
   ]
  },
  {
   "cell_type": "code",
   "execution_count": 9,
   "id": "4aea1553",
   "metadata": {},
   "outputs": [],
   "source": [
    "# defining ranges for hyperparameters for KNN\n",
    "p_grid_knn = {'n_neighbors' : range(1, 100), 'weights' : ['uniform', 'distance']}\n",
    "\n",
    "# classifier\n",
    "knn = neighbors.KNeighborsClassifier()\n",
    "\n",
    "# inner CV\n",
    "clf = GridSearchCV(estimator=knn, param_grid=p_grid_knn, \n",
    "                   cv=inner_cv, scoring=custom_scorer)\n",
    "\n",
    "# outer CV\n",
    "nested_score = cross_val_score(clf, X=wdbc_x_train_minmax, y=wdbc_y_train, \n",
    "                               cv=outer_cv, scoring=custom_scorer, error_score='raise')\n",
    "\n",
    "f1_scores['knn'] = nested_score.mean()"
   ]
  },
  {
   "cell_type": "markdown",
   "id": "a0878a48",
   "metadata": {},
   "source": [
    "## Decision Tree"
   ]
  },
  {
   "cell_type": "markdown",
   "id": "e68242b7",
   "metadata": {},
   "source": [
    "We now take a look at decision tree. The process used is very similar to KNN. The difference from KNN here is instead of grid search, we use Bayesian search, as there are more parameters in Decision tree, and the search space is larger and hence takes a lot more time than performing grid search in KNN."
   ]
  },
  {
   "cell_type": "code",
   "execution_count": 10,
   "id": "2439e5fd",
   "metadata": {},
   "outputs": [],
   "source": [
    "# defining search space for hyperparameters for Decision tree\n",
    "p_grid_dtree = {'max_depth' : Integer(1, 20), \n",
    "          'min_samples_split': Integer(2,20), \n",
    "          'min_samples_leaf': Integer(1,10),\n",
    "          'min_impurity_decrease': Real(0,2)\n",
    "         }\n",
    "\n",
    "# classifier\n",
    "dtree = tree.DecisionTreeClassifier(criterion=\"gini\")\n",
    "\n",
    "# inner CV\n",
    "clf = BayesSearchCV(estimator=dtree, search_spaces=p_grid_dtree, \n",
    "                   cv=inner_cv, scoring=custom_scorer)\n",
    "\n",
    "# outer CV\n",
    "nested_score = cross_val_score(clf, X=wdbc_x_train, y=wdbc_y_train, \n",
    "                               cv=outer_cv, scoring=custom_scorer, error_score='raise')\n",
    "\n",
    "f1_scores['dtree'] = nested_score.mean()"
   ]
  },
  {
   "cell_type": "markdown",
   "id": "9805f312",
   "metadata": {},
   "source": [
    "## Logistic Regression"
   ]
  },
  {
   "cell_type": "markdown",
   "id": "7d4842c2",
   "metadata": {
    "scrolled": true
   },
   "source": [
    "We now look at the logistic regression model and evaluate the performance of this model using the same strategy. To do this analysis, we first standardize features by removing the mean and scaling to unit variance."
   ]
  },
  {
   "cell_type": "code",
   "execution_count": 11,
   "id": "08011627",
   "metadata": {},
   "outputs": [],
   "source": [
    "wdbc_x_train_scalar = preprocessing.StandardScaler().fit_transform(wdbc_x_train)"
   ]
  },
  {
   "cell_type": "markdown",
   "id": "807e707a",
   "metadata": {},
   "source": [
    "Code for hyperparameter tuning and performance validation."
   ]
  },
  {
   "cell_type": "code",
   "execution_count": 12,
   "id": "f6c453a4",
   "metadata": {},
   "outputs": [],
   "source": [
    "# defining search space\n",
    "p_grid_lreg = {\n",
    "    'penalty' : Categorical(['l1', 'l2', 'none', 'elasticnet']), \n",
    "    'tol': Real(0,1),\n",
    "    'C': Real(1,100),\n",
    "    'max_iter': Integer(100,2000),\n",
    "    'l1_ratio': Real(0,1)\n",
    "}\n",
    "\n",
    "# classifier\n",
    "lreg = linear_model.LogisticRegression(solver='saga') \n",
    "\n",
    "# inner CV\n",
    "clf = BayesSearchCV(estimator=lreg, search_spaces=p_grid_lreg, \n",
    "                   cv=inner_cv, scoring=custom_scorer)\n",
    "\n",
    "# outer CV\n",
    "nested_score = cross_val_score(clf, X=wdbc_x_train_scalar, y=wdbc_y_train, \n",
    "                               cv=outer_cv, scoring=custom_scorer, error_score='raise')\n",
    "\n",
    "f1_scores['lreg'] = nested_score.mean()\n"
   ]
  },
  {
   "cell_type": "markdown",
   "id": "c98c4da2",
   "metadata": {},
   "source": [
    "## Support Vector Classifier"
   ]
  },
  {
   "cell_type": "markdown",
   "id": "0bb16afe",
   "metadata": {},
   "source": [
    "The final model we will be looking at is support vector classifier. We will follow the same steps with its respective parameters as in the above models. We use the z-score normalized dataset we used in the logistic regression above."
   ]
  },
  {
   "cell_type": "code",
   "execution_count": 13,
   "id": "f7802c7a",
   "metadata": {},
   "outputs": [],
   "source": [
    "# defining search space\n",
    "p_grid_svc = {\n",
    "    'C': Real(1,100),\n",
    "    'kernel' : Categorical(['linear', 'poly', 'rbf', 'sigmoid']), \n",
    "    'degree': Integer(1,5),\n",
    "    'gamma': Real(0.000000001,1),\n",
    "    'tol': Real(0.000000001,1)\n",
    "}\n",
    "\n",
    "# classifier\n",
    "svc = SVC() \n",
    "\n",
    "# inner CV\n",
    "clf = BayesSearchCV(estimator=svc, search_spaces=p_grid_svc, \n",
    "                   cv=inner_cv, scoring=custom_scorer)\n",
    "\n",
    "# outer CV\n",
    "nested_score = cross_val_score(clf, X=wdbc_x_train_scalar, y=wdbc_y_train, \n",
    "                               cv=outer_cv, scoring=custom_scorer, error_score='raise')\n",
    "\n",
    "f1_scores['svc'] = nested_score.mean()"
   ]
  },
  {
   "cell_type": "markdown",
   "id": "14a48719",
   "metadata": {},
   "source": [
    "## Selecting Final Model"
   ]
  },
  {
   "cell_type": "markdown",
   "id": "dad17bb9",
   "metadata": {},
   "source": [
    "We now compare our F-measures on the training datasets for all the models we have built. "
   ]
  },
  {
   "cell_type": "code",
   "execution_count": 14,
   "id": "42acdc05",
   "metadata": {},
   "outputs": [
    {
     "data": {
      "text/plain": [
       "{'knn': 0.9668613653699467,\n",
       " 'dtree': 0.9145184098623662,\n",
       " 'lreg': 0.9694166666666666,\n",
       " 'svc': 0.9462652687099989}"
      ]
     },
     "execution_count": 14,
     "metadata": {},
     "output_type": "execute_result"
    }
   ],
   "source": [
    "f1_scores"
   ]
  },
  {
   "cell_type": "code",
   "execution_count": 15,
   "id": "2a8e35e8",
   "metadata": {},
   "outputs": [
    {
     "name": "stdout",
     "output_type": "stream",
     "text": [
      "lreg\n"
     ]
    }
   ],
   "source": [
    "best_f_score = max(f1_scores, key=f1_scores.get)\n",
    "print(best_f_score)"
   ]
  },
  {
   "cell_type": "markdown",
   "id": "6122b0ee",
   "metadata": {},
   "source": [
    "We see that the F-score for Logistic Regression is the maximum out of the four models. We select the same as our final model."
   ]
  },
  {
   "cell_type": "markdown",
   "id": "cdee7254",
   "metadata": {},
   "source": [
    "## Evaluate performance of selected model - Logistic Regression"
   ]
  },
  {
   "cell_type": "markdown",
   "id": "c7c62e8c",
   "metadata": {},
   "source": [
    "We now fit our selected model to the training data, and check peformance on training and test data, so that we evaluate model performance on some data which has not been seen by the model before."
   ]
  },
  {
   "cell_type": "code",
   "execution_count": 16,
   "id": "7a03b580",
   "metadata": {},
   "outputs": [
    {
     "name": "stdout",
     "output_type": "stream",
     "text": [
      "Accuracy for this model:  0.984182776801406\n",
      "Precision for class M:  0.9903381642512077\n",
      "Recall for class M:  0.9669811320754716\n",
      "F-score for this model:  0.9785202863961814\n",
      "Confusion Matrix for this model: \n",
      " [[355   2]\n",
      " [  7 205]]\n"
     ]
    }
   ],
   "source": [
    "# z score normalization\n",
    "wdbc_x_train_scalar = preprocessing.StandardScaler().fit_transform(wdbc_x_train)\n",
    "wdbc_x_test_scalar = preprocessing.StandardScaler().fit_transform(wdbc_x_test)\n",
    "wdbc_x_scalar = preprocessing.StandardScaler().fit_transform(wdbc_x)\n",
    "\n",
    "# build a custom scorer\n",
    "custom_scorer = make_scorer(f1_score, greater_is_better=True,  pos_label='M')\n",
    "\n",
    "# create folds for cross validation\n",
    "inner_cv = KFold(n_splits=5, shuffle=True, random_state=5)\n",
    "outer_cv = KFold(n_splits=5, shuffle=True, random_state=5)\n",
    "\n",
    "#search space for Bayesian hyperparameter setting\n",
    "p_grid_lreg = {\n",
    "    'penalty' : Categorical(['l1', 'l2', 'none', 'elasticnet']), \n",
    "    'tol': Real(0,1),\n",
    "    'C': Real(1,100),\n",
    "    'max_iter': Integer(100,2000),\n",
    "    'l1_ratio': Real(0,1)\n",
    "}\n",
    "\n",
    "# classifier\n",
    "lreg = linear_model.LogisticRegression(solver='saga') \n",
    "\n",
    "\n",
    "clf = BayesSearchCV(estimator=lreg, search_spaces=p_grid_lreg, \n",
    "                   cv=inner_cv, scoring=custom_scorer)\n",
    "clf.fit(X=wdbc_x_train_scalar, y=wdbc_y_train)\n",
    "\n",
    "pred = clf.predict(wdbc_x_scalar)\n",
    "print(\"Accuracy for this model: \", metrics.accuracy_score(wdbc_y, pred))\n",
    "print(\"Precision for class M: \", metrics.precision_score(wdbc_y, pred, pos_label='M'))\n",
    "print(\"Recall for class M: \", metrics.recall_score(wdbc_y, pred, pos_label='M'))\n",
    "print(\"F-score for this model: \", metrics.f1_score(wdbc_y, pred, pos_label='M'))\n",
    "print(\"Confusion Matrix for this model: \\n\", metrics.confusion_matrix(wdbc_y, pred))"
   ]
  },
  {
   "cell_type": "markdown",
   "id": "8a37f335",
   "metadata": {},
   "source": [
    "From the above we see that the overall accuracy of the model is around 98%. The presicion for class 'M' is around 0.99, i.e. out of all the data points predicted as class 'M', 99% of them have been correctly predicted. The recall for class 'M' is around 0.967, which means among all the data points which are actually 'M', 97% of them have been predicted as 'M' by our model. F-score for class 'M', which is shown above is around 0.98, which is calculated using precision and recall of class 'M'. Finally, we see the confusion matrix for the model. "
   ]
  },
  {
   "cell_type": "markdown",
   "id": "bd70c5dd",
   "metadata": {},
   "source": [
    "## Plotting ROC curve, calculating AUC and plotting lift curve."
   ]
  },
  {
   "cell_type": "markdown",
   "id": "28efafac",
   "metadata": {},
   "source": [
    "ROC curve: The ROC curve is created by plotting the true positive rate (TPR) against the false positive rate (FPR) at various threshold settings. The true-positive rate is also known as sensitivity, recall or probability of detection. The false-positive rate is also known as probability of false alarm and can be calculated as (1 − specificity). [ref: https://en.wikipedia.org/wiki/Receiver_operating_characteristic]\n",
    "\n",
    "AUC: AUC stands for \"Area under the ROC Curve.\" That is, AUC measures the entire two-dimensional area underneath the entire ROC curve (think integral calculus) from (0,0) to (1,1). AUC provides an aggregate measure of performance across all possible classification thresholds. One way of interpreting AUC is as the probability that the model ranks a random positive example more highly than a random negative example.[ref: https://developers.google.com/machine-learning/crash-course/classification/roc-and-auc]\n",
    "\n",
    "Lift curve: The Lift curve shows the relation between the number of instances which were predicted positive and those that are indeed positive and thus measures the performance of a chosen classifier against a random classifier. The graph is constructed with the cumulative number of cases (in descending order of probability) on the x-axis and the cumulative number of true positives on the y-axis. Lift curve is often used in segmenting the population, e.g., plotting the number of responding customers against the number of all customers contacted. You can also determine the optimal classifier and its threshold from the graph. [ref: https://orange3.readthedocs.io/en/3.5.0/widgets/evaluation/liftcurve.html#:~:text=The%20Lift%20curve%20shows%20the,classifier%20against%20a%20random%20classifier.]"
   ]
  },
  {
   "cell_type": "code",
   "execution_count": 17,
   "id": "99371597",
   "metadata": {},
   "outputs": [
    {
     "data": {
      "text/plain": [
       "<sklearn.metrics._plot.roc_curve.RocCurveDisplay at 0x7fdfd8023c10>"
      ]
     },
     "execution_count": 17,
     "metadata": {},
     "output_type": "execute_result"
    },
    {
     "data": {
      "image/png": "[encoded data removed]",
      "text/plain": [
       "<Figure size 640x480 with 1 Axes>"
      ]
     },
     "metadata": {},
     "output_type": "display_data"
    }
   ],
   "source": [
    "# roc curve plot\n",
    "metrics.plot_roc_curve(clf, wdbc_x_scalar, pred)"
   ]
  },
  {
   "cell_type": "code",
   "execution_count": 18,
   "id": "22b08a21",
   "metadata": {},
   "outputs": [
    {
     "data": {
      "text/plain": [
       "0.9962343427937213"
      ]
     },
     "execution_count": 18,
     "metadata": {},
     "output_type": "execute_result"
    }
   ],
   "source": [
    "#auc score\n",
    "metrics.roc_auc_score(y_true=wdbc_y, y_score=clf.predict_proba(wdbc_x_scalar)[:,1])"
   ]
  },
  {
   "cell_type": "markdown",
   "id": "582e506b",
   "metadata": {},
   "source": [
    "The AUC for our model is 0.997, i.e., there is 99.7% chance that our model will rank a random 'M' example more highly than a random 'B' example."
   ]
  },
  {
   "cell_type": "code",
   "execution_count": 19,
   "id": "efa1f556",
   "metadata": {
    "scrolled": true
   },
   "outputs": [
    {
     "data": {
      "text/plain": [
       "<AxesSubplot:title={'center':'Lift Curve'}, xlabel='Percentage of sample', ylabel='Lift'>"
      ]
     },
     "execution_count": 19,
     "metadata": {},
     "output_type": "execute_result"
    },
    {
     "data": {
      "image/png": "[encoded data removed]",
      "text/plain": [
       "<Figure size 640x480 with 1 Axes>"
      ]
     },
     "metadata": {},
     "output_type": "display_data"
    }
   ],
   "source": [
    "# lift curve\n",
    "scikitplot.metrics.plot_lift_curve(wdbc_y, clf.predict_proba(wdbc_x_scalar))"
   ]
  }
 ],
 "metadata": {
  "kernelspec": {
   "display_name": "Python 3 (ipykernel)",
   "language": "python",
   "name": "python3"
  },
  "language_info": {
   "codemirror_mode": {
    "name": "ipython",
    "version": 3
   },
   "file_extension": ".py",
   "mimetype": "text/x-python",
   "name": "python",
   "nbconvert_exporter": "python",
   "pygments_lexer": "ipython3",
   "version": "3.9.13"
  }
 },
 "nbformat": 4,
 "nbformat_minor": 5
}
